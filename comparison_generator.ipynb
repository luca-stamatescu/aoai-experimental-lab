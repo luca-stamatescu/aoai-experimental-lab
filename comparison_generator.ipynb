{
 "cells": [
  {
   "cell_type": "code",
   "execution_count": 9,
   "metadata": {},
   "outputs": [],
   "source": [
    "# Import dependencies\n",
    "import datetime\n",
    "import json\n",
    "import time\n",
    "import os\n",
    "from openai import AzureOpenAI\n",
    "from dotenv import load_dotenv\n",
    "import copy\n",
    "import textwrap\n",
    "import requests\n",
    "\n",
    "# Load environment variables\n",
    "load_dotenv(\"./.env\")\n",
    "\n",
    "# Define function for calling GPT4o\n",
    "def gpt4o_call(system_message, prompt):\n",
    "    client = AzureOpenAI(\n",
    "        api_version=os.getenv(\"4oAPI_VERSION\"),\n",
    "        azure_endpoint=os.getenv(\"4oAZURE_ENDPOINT\"),\n",
    "        api_key=os.getenv(\"4oAPI_KEY\")\n",
    "    )\n",
    "\n",
    "    start_time = time.time()\n",
    "\n",
    "    completion = client.chat.completions.create(\n",
    "        model=os.getenv(\"4oMODEL\"),\n",
    "        messages=[\n",
    "            {\"role\": \"system\", \"content\": system_message},\n",
    "            {\"role\": \"user\", \"content\": prompt},\n",
    "        ],\n",
    "    )\n",
    "\n",
    "    result = json.loads(completion.model_dump_json(indent=2))\n",
    "    completion_text = result[\"choices\"][0][\"message\"][\"content\"]\n",
    "\n",
    "    return completion_text\n",
    "\n",
    "# Define function for calling O1\n",
    "def o1_call(system_message, user_message):\n",
    "    prompt = system_message + user_message\n",
    "\n",
    "    url = os.getenv(\"o1AZURE_ENDPOINT\")\n",
    "    headers = {\n",
    "        \"api-key\": os.getenv(\"o1API_KEY\"),\n",
    "        \"Content-Type\": \"application/json\"\n",
    "    }\n",
    "    data = {\n",
    "        \"messages\": [\n",
    "            {\n",
    "                \"role\": \"user\",\n",
    "                \"content\": [\n",
    "                    {\"type\": \"text\", \"text\": prompt}\n",
    "                ],\n",
    "            }\n",
    "        ]\n",
    "    }\n",
    "\n",
    "    response = requests.post(url, headers=headers, json=data)\n",
    "    messageo1 = response.json()[\"choices\"][0][\"message\"][\"content\"]\n",
    "    \n",
    "    return messageo1"
   ]
  },
  {
   "cell_type": "code",
   "execution_count": 5,
   "metadata": {},
   "outputs": [
    {
     "name": "stdout",
     "output_type": "stream",
     "text": [
      "Hello! How can I assist you today?\n"
     ]
    }
   ],
   "source": [
    "system_message=\"You are a helpful AI assistant.\"\n",
    "\n",
    "user_message=\"\"\"\n",
    "hi\n",
    "\"\"\"\n",
    "\n",
    "completion_text_4o=gpt4o_call(system_message,user_message)\n",
    "print(completion_text_4o)\n",
    "\n",
    "completion_text_o1 = o1_call(system_message, user_message)\n",
    "print(completion_text_o1)"
   ]
  },
  {
   "cell_type": "code",
   "execution_count": 7,
   "metadata": {},
   "outputs": [
    {
     "name": "stdout",
     "output_type": "stream",
     "text": [
      "Hello! How can I assist you today?\n"
     ]
    }
   ],
   "source": []
  },
  {
   "cell_type": "code",
   "execution_count": 20,
   "metadata": {},
   "outputs": [
    {
     "name": "stdout",
     "output_type": "stream",
     "text": [
      "ChatCompletionChunk(id='', choices=[], created=0, model='', object='', service_tier=None, system_fingerprint=None, usage=None, prompt_filter_results=[{'prompt_index': 0, 'content_filter_results': {'hate': {'filtered': False, 'severity': 'safe'}, 'jailbreak': {'filtered': False, 'detected': False}, 'self_harm': {'filtered': False, 'severity': 'safe'}, 'sexual': {'filtered': False, 'severity': 'safe'}, 'violence': {'filtered': False, 'severity': 'safe'}}}])\n",
      "ChatCompletionChunk(id='chatcmpl-ADAIPXk1labX03VI8fm6fNFju9nvE', choices=[Choice(delta=ChoiceDelta(content='', function_call=None, refusal=None, role='assistant', tool_calls=None), finish_reason=None, index=0, logprobs=None, content_filter_results={})], created=1727701205, model='gpt-4o-2024-08-06', object='chat.completion.chunk', service_tier=None, system_fingerprint='fp_67802d9a6d', usage=None)\n",
      "ChatCompletionChunk(id='chatcmpl-ADAIPXk1labX03VI8fm6fNFju9nvE', choices=[Choice(delta=ChoiceDelta(content='Hello', function_call=None, refusal=None, role=None, tool_calls=None), finish_reason=None, index=0, logprobs=None, content_filter_results={'hate': {'filtered': False, 'severity': 'safe'}, 'self_harm': {'filtered': False, 'severity': 'safe'}, 'sexual': {'filtered': False, 'severity': 'safe'}, 'violence': {'filtered': False, 'severity': 'safe'}})], created=1727701205, model='gpt-4o-2024-08-06', object='chat.completion.chunk', service_tier=None, system_fingerprint='fp_67802d9a6d', usage=None)\n",
      "Hello\n",
      "ChatCompletionChunk(id='chatcmpl-ADAIPXk1labX03VI8fm6fNFju9nvE', choices=[Choice(delta=ChoiceDelta(content='!', function_call=None, refusal=None, role=None, tool_calls=None), finish_reason=None, index=0, logprobs=None, content_filter_results={'hate': {'filtered': False, 'severity': 'safe'}, 'self_harm': {'filtered': False, 'severity': 'safe'}, 'sexual': {'filtered': False, 'severity': 'safe'}, 'violence': {'filtered': False, 'severity': 'safe'}})], created=1727701205, model='gpt-4o-2024-08-06', object='chat.completion.chunk', service_tier=None, system_fingerprint='fp_67802d9a6d', usage=None)\n",
      "!\n",
      "ChatCompletionChunk(id='chatcmpl-ADAIPXk1labX03VI8fm6fNFju9nvE', choices=[Choice(delta=ChoiceDelta(content=' How', function_call=None, refusal=None, role=None, tool_calls=None), finish_reason=None, index=0, logprobs=None, content_filter_results={'hate': {'filtered': False, 'severity': 'safe'}, 'self_harm': {'filtered': False, 'severity': 'safe'}, 'sexual': {'filtered': False, 'severity': 'safe'}, 'violence': {'filtered': False, 'severity': 'safe'}})], created=1727701205, model='gpt-4o-2024-08-06', object='chat.completion.chunk', service_tier=None, system_fingerprint='fp_67802d9a6d', usage=None)\n",
      " How\n",
      "ChatCompletionChunk(id='chatcmpl-ADAIPXk1labX03VI8fm6fNFju9nvE', choices=[Choice(delta=ChoiceDelta(content=' can', function_call=None, refusal=None, role=None, tool_calls=None), finish_reason=None, index=0, logprobs=None, content_filter_results={'hate': {'filtered': False, 'severity': 'safe'}, 'self_harm': {'filtered': False, 'severity': 'safe'}, 'sexual': {'filtered': False, 'severity': 'safe'}, 'violence': {'filtered': False, 'severity': 'safe'}})], created=1727701205, model='gpt-4o-2024-08-06', object='chat.completion.chunk', service_tier=None, system_fingerprint='fp_67802d9a6d', usage=None)\n",
      " can\n",
      "ChatCompletionChunk(id='chatcmpl-ADAIPXk1labX03VI8fm6fNFju9nvE', choices=[Choice(delta=ChoiceDelta(content=' I', function_call=None, refusal=None, role=None, tool_calls=None), finish_reason=None, index=0, logprobs=None, content_filter_results={'hate': {'filtered': False, 'severity': 'safe'}, 'self_harm': {'filtered': False, 'severity': 'safe'}, 'sexual': {'filtered': False, 'severity': 'safe'}, 'violence': {'filtered': False, 'severity': 'safe'}})], created=1727701205, model='gpt-4o-2024-08-06', object='chat.completion.chunk', service_tier=None, system_fingerprint='fp_67802d9a6d', usage=None)\n",
      " I\n",
      "ChatCompletionChunk(id='chatcmpl-ADAIPXk1labX03VI8fm6fNFju9nvE', choices=[Choice(delta=ChoiceDelta(content=' assist', function_call=None, refusal=None, role=None, tool_calls=None), finish_reason=None, index=0, logprobs=None, content_filter_results={'hate': {'filtered': False, 'severity': 'safe'}, 'self_harm': {'filtered': False, 'severity': 'safe'}, 'sexual': {'filtered': False, 'severity': 'safe'}, 'violence': {'filtered': False, 'severity': 'safe'}})], created=1727701205, model='gpt-4o-2024-08-06', object='chat.completion.chunk', service_tier=None, system_fingerprint='fp_67802d9a6d', usage=None)\n",
      " assist\n",
      "ChatCompletionChunk(id='chatcmpl-ADAIPXk1labX03VI8fm6fNFju9nvE', choices=[Choice(delta=ChoiceDelta(content=' you', function_call=None, refusal=None, role=None, tool_calls=None), finish_reason=None, index=0, logprobs=None, content_filter_results={'hate': {'filtered': False, 'severity': 'safe'}, 'self_harm': {'filtered': False, 'severity': 'safe'}, 'sexual': {'filtered': False, 'severity': 'safe'}, 'violence': {'filtered': False, 'severity': 'safe'}})], created=1727701205, model='gpt-4o-2024-08-06', object='chat.completion.chunk', service_tier=None, system_fingerprint='fp_67802d9a6d', usage=None)\n",
      " you\n",
      "ChatCompletionChunk(id='chatcmpl-ADAIPXk1labX03VI8fm6fNFju9nvE', choices=[Choice(delta=ChoiceDelta(content=' today', function_call=None, refusal=None, role=None, tool_calls=None), finish_reason=None, index=0, logprobs=None, content_filter_results={'hate': {'filtered': False, 'severity': 'safe'}, 'self_harm': {'filtered': False, 'severity': 'safe'}, 'sexual': {'filtered': False, 'severity': 'safe'}, 'violence': {'filtered': False, 'severity': 'safe'}})], created=1727701205, model='gpt-4o-2024-08-06', object='chat.completion.chunk', service_tier=None, system_fingerprint='fp_67802d9a6d', usage=None)\n",
      " today\n",
      "ChatCompletionChunk(id='chatcmpl-ADAIPXk1labX03VI8fm6fNFju9nvE', choices=[Choice(delta=ChoiceDelta(content='?', function_call=None, refusal=None, role=None, tool_calls=None), finish_reason=None, index=0, logprobs=None, content_filter_results={'hate': {'filtered': False, 'severity': 'safe'}, 'self_harm': {'filtered': False, 'severity': 'safe'}, 'sexual': {'filtered': False, 'severity': 'safe'}, 'violence': {'filtered': False, 'severity': 'safe'}})], created=1727701205, model='gpt-4o-2024-08-06', object='chat.completion.chunk', service_tier=None, system_fingerprint='fp_67802d9a6d', usage=None)\n",
      "?\n",
      "ChatCompletionChunk(id='chatcmpl-ADAIPXk1labX03VI8fm6fNFju9nvE', choices=[Choice(delta=ChoiceDelta(content=None, function_call=None, refusal=None, role=None, tool_calls=None), finish_reason='stop', index=0, logprobs=None, content_filter_results={})], created=1727701205, model='gpt-4o-2024-08-06', object='chat.completion.chunk', service_tier=None, system_fingerprint='fp_67802d9a6d', usage=None)\n"
     ]
    }
   ],
   "source": [
    "# Example of an OpenAI ChatCompletion request with stream=True\n",
    "# https://platform.openai.com/docs/api-reference/streaming#chat/create-stream\n",
    "client = AzureOpenAI(\n",
    "    api_version=os.getenv(\"4oAPI_VERSION\"),\n",
    "    azure_endpoint=os.getenv(\"4oAZURE_ENDPOINT\"),\n",
    "    api_key=os.getenv(\"4oAPI_KEY\")\n",
    ")\n",
    "# a ChatCompletion request\n",
    "response = client.chat.completions.create(\n",
    "    model=os.getenv(\"4oMODEL\"),\n",
    "    messages=[\n",
    "        {'role': 'user', 'content': \"hi\"}\n",
    "    ],\n",
    "    temperature=0,\n",
    "    stream=True  # this time, we set stream=True\n",
    ")\n",
    "\n",
    "for chunk in response:\n",
    "    print(chunk)\n",
    "    if chunk.choices and chunk.choices[0].delta.content:\n",
    "        print(chunk.choices[0].delta.content)"
   ]
  },
  {
   "cell_type": "code",
   "execution_count": null,
   "metadata": {},
   "outputs": [],
   "source": []
  }
 ],
 "metadata": {
  "kernelspec": {
   "display_name": ".venv",
   "language": "python",
   "name": "python3"
  },
  "language_info": {
   "codemirror_mode": {
    "name": "ipython",
    "version": 3
   },
   "file_extension": ".py",
   "mimetype": "text/x-python",
   "name": "python",
   "nbconvert_exporter": "python",
   "pygments_lexer": "ipython3",
   "version": "3.9.6"
  }
 },
 "nbformat": 4,
 "nbformat_minor": 2
}
